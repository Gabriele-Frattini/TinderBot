{
 "cells": [
  {
   "cell_type": "code",
   "execution_count": 91,
   "metadata": {},
   "outputs": [],
   "source": [
    "with open(\"C:/Users/gabbe/Downloads/web-scraping/bot/training_data.txt\", \"r\", encoding=\"utf-8\") as f:\n",
    "  data = f.read()"
   ]
  },
  {
   "cell_type": "code",
   "execution_count": 92,
   "metadata": {},
   "outputs": [],
   "source": [
    "data = data.split(\"\\n\")"
   ]
  },
  {
   "cell_type": "code",
   "execution_count": 93,
   "metadata": {},
   "outputs": [],
   "source": [
    "data = set(data)"
   ]
  },
  {
   "cell_type": "code",
   "execution_count": 4,
   "metadata": {},
   "outputs": [],
   "source": [
    "import pandas as pd\n",
    "import numpy as np\n"
   ]
  },
  {
   "cell_type": "code",
   "execution_count": 5,
   "metadata": {},
   "outputs": [],
   "source": [
    "tinder = pd.read_csv(\"tinder.bios.csv\")"
   ]
  },
  {
   "cell_type": "code",
   "execution_count": 22,
   "metadata": {},
   "outputs": [
    {
     "data": {
      "text/plain": [
       "0    122\n",
       "1     63\n",
       "Name: y, dtype: int64"
      ]
     },
     "execution_count": 22,
     "metadata": {},
     "output_type": "execute_result"
    }
   ],
   "source": [
    "tinder[\"y\"].value_counts()"
   ]
  },
  {
   "cell_type": "code",
   "execution_count": 23,
   "metadata": {},
   "outputs": [
    {
     "data": {
      "text/plain": [
       "0"
      ]
     },
     "execution_count": 23,
     "metadata": {},
     "output_type": "execute_result"
    }
   ],
   "source": [
    "blanks = []\n",
    "\n",
    "for i,lb,rv in tinder.itertuples():  # iterate over the DataFrame\n",
    "    if type(rv)==str:            # avoid NaN values\n",
    "        if rv.isspace():         # test 'review' for whitespace\n",
    "            blanks.append(i)     # add matching index numbers to the list\n",
    "        \n",
    "len(blanks)"
   ]
  },
  {
   "cell_type": "code",
   "execution_count": 24,
   "metadata": {},
   "outputs": [],
   "source": [
    "tinder.dropna(inplace=True)\n",
    "tinder[\"x\"] = tinder[\"x\"].values.astype(\"U\")"
   ]
  },
  {
   "cell_type": "code",
   "execution_count": 131,
   "metadata": {},
   "outputs": [],
   "source": [
    "from sklearn.model_selection import train_test_split\n",
    "\n",
    "X = tinder[\"x\"]\n",
    "y = tinder[\"y\"]\n",
    "\n",
    "X_train, X_test, y_train, y_test = train_test_split(X, y, test_size=0.9, random_state=42)"
   ]
  },
  {
   "cell_type": "code",
   "execution_count": 26,
   "metadata": {},
   "outputs": [
    {
     "data": {
      "text/plain": [
       "Pipeline(steps=[('tfidf', TfidfVectorizer()),\n",
       "                ('clf', SVC(kernel='poly', probability=True))])"
      ]
     },
     "execution_count": 26,
     "metadata": {},
     "output_type": "execute_result"
    }
   ],
   "source": [
    "from sklearn.pipeline import Pipeline\n",
    "from sklearn.feature_extraction.text import TfidfVectorizer\n",
    "from sklearn.svm import SVC\n",
    "\n",
    "text_clf = Pipeline([\n",
    "  (\"tfidf\", TfidfVectorizer()),\n",
    "  (\"clf\", SVC(probability=True, gamma=\"scale\", kernel=\"poly\"))\n",
    "])\n",
    "\n",
    "text_clf.fit(X_train,y_train)"
   ]
  },
  {
   "cell_type": "code",
   "execution_count": 27,
   "metadata": {},
   "outputs": [],
   "source": [
    "predictions = text_clf.predict(X_test)"
   ]
  },
  {
   "cell_type": "code",
   "execution_count": 28,
   "metadata": {},
   "outputs": [
    {
     "name": "stdout",
     "output_type": "stream",
     "text": [
      "[[23  1]\n",
      " [11  2]]\n"
     ]
    }
   ],
   "source": [
    "from sklearn import metrics\n",
    "print(metrics.confusion_matrix(y_test, predictions))"
   ]
  },
  {
   "cell_type": "code",
   "execution_count": 29,
   "metadata": {},
   "outputs": [
    {
     "name": "stdout",
     "output_type": "stream",
     "text": [
      "              precision    recall  f1-score   support\n",
      "\n",
      "           0       0.68      0.96      0.79        24\n",
      "           1       0.67      0.15      0.25        13\n",
      "\n",
      "    accuracy                           0.68        37\n",
      "   macro avg       0.67      0.56      0.52        37\n",
      "weighted avg       0.67      0.68      0.60        37\n",
      "\n"
     ]
    }
   ],
   "source": [
    "print(metrics.classification_report(y_test, predictions))"
   ]
  },
  {
   "cell_type": "code",
   "execution_count": 30,
   "metadata": {},
   "outputs": [
    {
     "name": "stdout",
     "output_type": "stream",
     "text": [
      "0.6756756756756757\n"
     ]
    }
   ],
   "source": [
    "print(metrics.accuracy_score(y_test,predictions))"
   ]
  },
  {
   "cell_type": "code",
   "execution_count": 31,
   "metadata": {},
   "outputs": [
    {
     "data": {
      "text/plain": [
       "array([[0.89825876, 0.10174124],\n",
       "       [0.6085716 , 0.3914284 ],\n",
       "       [0.78763606, 0.21236394],\n",
       "       [0.67128318, 0.32871682],\n",
       "       [0.67128318, 0.32871682],\n",
       "       [0.67128318, 0.32871682],\n",
       "       [0.74143319, 0.25856681],\n",
       "       [0.65965365, 0.34034635],\n",
       "       [0.73162637, 0.26837363],\n",
       "       [0.87687274, 0.12312726],\n",
       "       [0.70857308, 0.29142692],\n",
       "       [0.8683961 , 0.1316039 ],\n",
       "       [0.75496603, 0.24503397],\n",
       "       [0.67128318, 0.32871682],\n",
       "       [0.77968868, 0.22031132],\n",
       "       [0.61237367, 0.38762633],\n",
       "       [0.01906106, 0.98093894],\n",
       "       [0.66245913, 0.33754087],\n",
       "       [0.93461996, 0.06538004],\n",
       "       [0.0586217 , 0.9413783 ],\n",
       "       [0.48683301, 0.51316699],\n",
       "       [0.13251583, 0.86748417],\n",
       "       [0.61738462, 0.38261538],\n",
       "       [0.94864745, 0.05135255],\n",
       "       [0.9491812 , 0.0508188 ],\n",
       "       [0.86255021, 0.13744979],\n",
       "       [0.66223688, 0.33776312],\n",
       "       [0.94914525, 0.05085475],\n",
       "       [0.67128318, 0.32871682],\n",
       "       [0.77968868, 0.22031132],\n",
       "       [0.86561399, 0.13438601],\n",
       "       [0.89307829, 0.10692171],\n",
       "       [0.68105125, 0.31894875],\n",
       "       [0.92208178, 0.07791822],\n",
       "       [0.80556163, 0.19443837],\n",
       "       [0.62460786, 0.37539214],\n",
       "       [0.66223688, 0.33776312]])"
      ]
     },
     "execution_count": 31,
     "metadata": {},
     "output_type": "execute_result"
    }
   ],
   "source": [
    "text_clf.predict_proba(X_test)"
   ]
  },
  {
   "cell_type": "code",
   "execution_count": 32,
   "metadata": {},
   "outputs": [],
   "source": [
    "import joblib\n",
    "\n",
    "model = joblib.dump(text_clf, \"model.pkl\")"
   ]
  },
  {
   "cell_type": "code",
   "execution_count": 33,
   "metadata": {},
   "outputs": [],
   "source": [
    "\n",
    "import joblib\n",
    "\n",
    "model = joblib.load(\"C:/Users/gabbe/Downloads/web-scraping/model.pkl\")"
   ]
  },
  {
   "cell_type": "code",
   "execution_count": 145,
   "metadata": {},
   "outputs": [
    {
     "name": "stdout",
     "output_type": "stream",
     "text": [
      "Bio: Göteborgs universitet- avklarad kandidat inom sports coachi | Prediktion: [1]\n",
      "Bio: Kungsbacka/Halmstad | Prediktion: [0]\n"
     ]
    }
   ],
   "source": [
    "import random\n",
    "\n",
    "def get_random_data(df):\n",
    "  indice = random.randrange(0,len(X_test))\n",
    "  random_data = df.iloc[indice][:-13]\n",
    "\n",
    "  return random_data\n",
    "\n",
    "\n",
    "print(f\"Bio: {get_random_data(X_test)} | Prediktion: {model.predict([get_random_data(X_test)])}\")\n",
    "print(f\"Bio: {get_random_data(X_test)} | Prediktion: {model.predict([get_random_data(X_test)])}\")"
   ]
  }
 ],
 "metadata": {
  "interpreter": {
   "hash": "f4aef6b67404196dc7f80c234f594aa7175582cbdb960b2297bb70ae791f2abc"
  },
  "kernelspec": {
   "display_name": "Python 3.10.2 32-bit",
   "language": "python",
   "name": "python3"
  },
  "language_info": {
   "codemirror_mode": {
    "name": "ipython",
    "version": 3
   },
   "file_extension": ".py",
   "mimetype": "text/x-python",
   "name": "python",
   "nbconvert_exporter": "python",
   "pygments_lexer": "ipython3",
   "version": "3.9.7"
  },
  "orig_nbformat": 4
 },
 "nbformat": 4,
 "nbformat_minor": 2
}
